{
 "cells": [
  {
   "cell_type": "markdown",
   "metadata": {},
   "source": [
    "# Partial Estimation / Measurement Noise Reduction\n",
    "\n",
    "This notebook contain the empirical extension described in Section 8 of the paper.\n",
    "\n",
    "> In the case wherethere is a single backlog, we ask the question, will an organization still benefit from a partial noise reduction when some propositions’ values are obtained under reduced uncertainty while others are subject to the original noise level?"
   ]
  },
  {
   "cell_type": "code",
   "execution_count": 1,
   "metadata": {
    "collapsed": true
   },
   "outputs": [],
   "source": [
    "import numpy as np\n",
    "from normal_normal_partial_model import get_partial_noise_reduction_value_samples\n",
    "from matplotlib import pyplot as plt"
   ]
  },
  {
   "cell_type": "markdown",
   "metadata": {},
   "source": [
    "# Function definitions"
   ]
  },
  {
   "cell_type": "code",
   "execution_count": 2,
   "metadata": {
    "collapsed": true
   },
   "outputs": [],
   "source": [
    "def get_improvement_against_p(N, M, mu_X, sigma_X, mu_epsilon, \n",
    "                              sigma_1, sigma_2, p_list, verbose=False):\n",
    "    \n",
    "    sigma_sq_1 = sigma_1 ** 2\n",
    "    sigma_sq_2 = sigma_2 ** 2\n",
    "    sigma_sq_X = sigma_X ** 2\n",
    "    NUM_SAMPLES = 5000\n",
    "    \n",
    "    exp_improvements = []\n",
    "    CI_lows = []\n",
    "    CI_highs = []\n",
    "    \n",
    "    print(\"Parameters: N = {}, M = {}, mu_X = {}, sigma_X = {}, \"\n",
    "      \"mu_epsilon = {}, sigma_1 = {}, sigma_2 = {}\"\n",
    "      .format(N, M, mu_X, sigma_X, mu_epsilon, sigma_1, sigma_2))\n",
    "\n",
    "    for p in p_list:\n",
    "        _, _, improvement = (\n",
    "            get_partial_noise_reduction_value_samples(\n",
    "                NUM_SAMPLES, N, M, mu_X, mu_epsilon, \n",
    "                sigma_sq_X, sigma_sq_1, sigma_sq_2, p, verbose=False)\n",
    "        )\n",
    "\n",
    "        exp_improvement = np.mean(improvement)\n",
    "        CI_low = np.percentile(improvement, 5)\n",
    "        CI_high = np.percentile(improvement, 95)\n",
    "\n",
    "        exp_improvements.append(exp_improvement)\n",
    "        CI_lows.append(CI_low)\n",
    "        CI_highs.append(CI_high)\n",
    "        \n",
    "        if verbose:\n",
    "            print(\"p = {}, Improvement = {}, CI = [{}, {}]\"\n",
    "                  .format(p, np.round(exp_improvement, 4),\n",
    "                          np.round(CI_low, 4), np.round(CI_high, 4)))\n",
    "            \n",
    "    return exp_improvements, CI_lows, CI_highs"
   ]
  },
  {
   "cell_type": "code",
   "execution_count": 3,
   "metadata": {
    "collapsed": true
   },
   "outputs": [],
   "source": [
    "def generate_improvement_against_p_plot(p_list, exp_improvements, CI_lows, CI_highs):\n",
    "    fig, ax = plt.subplots()\n",
    "    \n",
    "    ax.errorbar(p_list, exp_improvements, \n",
    "                yerr=[np.array(exp_improvements) - np.array(CI_lows), \n",
    "                      np.array(CI_highs) - np.array(exp_improvements)],\n",
    "                fmt='o-', capsize=3)\n",
    "    \n",
    "    ax.axhline(0, c='black')\n",
    "#     ax.set_xlabel('p')\n",
    "#     ax.set_ylabel('Improvement')\n",
    "    \n",
    "    return fig, ax"
   ]
  },
  {
   "cell_type": "markdown",
   "metadata": {},
   "source": [
    "# Plotting the relationship between expected improvement\n",
    "\n",
    "Here we test we are able to generate one figure."
   ]
  },
  {
   "cell_type": "code",
   "execution_count": 4,
   "metadata": {},
   "outputs": [
    {
     "name": "stdout",
     "output_type": "stream",
     "text": [
      "Parameters: N = 2500, M = 500, mu_X = 0, sigma_X = 1, mu_epsilon = 0, sigma_1 = 0.5, sigma_2 = 0.4\n",
      "p = 0.0, Improvement = 0.0002, CI = [-0.0259, 0.0256]\n",
      "p = 0.1, Improvement = 0.0048, CI = [-0.0205, 0.0306]\n",
      "p = 0.2, Improvement = 0.0088, CI = [-0.0166, 0.0341]\n",
      "p = 0.30000000000000004, Improvement = 0.0141, CI = [-0.0114, 0.0401]\n",
      "p = 0.4, Improvement = 0.0185, CI = [-0.0065, 0.043]\n",
      "p = 0.5, Improvement = 0.0235, CI = [-0.001, 0.0478]\n",
      "p = 0.6000000000000001, Improvement = 0.028, CI = [0.004, 0.0525]\n",
      "p = 0.7000000000000001, Improvement = 0.033, CI = [0.0094, 0.057]\n",
      "p = 0.8, Improvement = 0.0377, CI = [0.0137, 0.0616]\n",
      "p = 0.9, Improvement = 0.043, CI = [0.0201, 0.0662]\n",
      "p = 1.0, Improvement = 0.0474, CI = [0.0247, 0.0708]\n"
     ]
    }
   ],
   "source": [
    "N = 2500\n",
    "M = 500\n",
    "\n",
    "sigma_X = 1\n",
    "sigma_1 = 0.5\n",
    "sigma_2 = 0.4\n",
    "mu_epsilon = 0\n",
    "mu_X = 0\n",
    "\n",
    "p_list = np.arange(0, 1.01, 0.1)\n",
    "exp_improvements, CI_lows, CI_highs = (\n",
    "    get_improvement_against_p(N, M, mu_X, sigma_X, mu_epsilon, \n",
    "                              sigma_1, sigma_2, p_list, verbose=True)\n",
    ")"
   ]
  },
  {
   "cell_type": "code",
   "execution_count": 5,
   "metadata": {},
   "outputs": [
    {
     "data": {
      "image/png": "[encoded data removed]",
      "text/plain": [
       "<matplotlib.figure.Figure at 0x115f4d5f8>"
      ]
     },
     "execution_count": 5,
     "metadata": {},
     "output_type": "execute_result"
    }
   ],
   "source": [
    "fig, ax = generate_improvement_against_p_plot(p_list, exp_improvements, CI_lows, CI_highs)\n",
    "\n",
    "fig"
   ]
  },
  {
   "cell_type": "markdown",
   "metadata": {},
   "source": [
    "# Generating all the figures\n",
    "\n",
    "The following code generates the figures in Figure 5 of the paper.\n",
    "\n",
    "The output is stored in the path `../output/partial_noise_<params>.pdf`."
   ]
  },
  {
   "cell_type": "code",
   "execution_count": 7,
   "metadata": {},
   "outputs": [
    {
     "name": "stdout",
     "output_type": "stream",
     "text": [
      "Parameters: N = 50, M = 5, mu_X = 0, sigma_X = 1, mu_epsilon = 0, sigma_1 = 0.5, sigma_2 = 0.4\n",
      "Parameters: N = 50, M = 20, mu_X = 0, sigma_X = 1, mu_epsilon = 0, sigma_1 = 0.5, sigma_2 = 0.4\n",
      "Parameters: N = 2500, M = 250, mu_X = 0, sigma_X = 1, mu_epsilon = 0, sigma_1 = 0.5, sigma_2 = 0.4\n",
      "Parameters: N = 2500, M = 1000, mu_X = 0, sigma_X = 1, mu_epsilon = 0, sigma_1 = 0.5, sigma_2 = 0.4\n",
      "Parameters: N = 50, M = 5, mu_X = 0, sigma_X = 1, mu_epsilon = 0, sigma_1 = 0.8, sigma_2 = 0.2\n",
      "Parameters: N = 50, M = 20, mu_X = 0, sigma_X = 1, mu_epsilon = 0, sigma_1 = 0.8, sigma_2 = 0.2\n",
      "Parameters: N = 2500, M = 250, mu_X = 0, sigma_X = 1, mu_epsilon = 0, sigma_1 = 0.8, sigma_2 = 0.2\n",
      "Parameters: N = 2500, M = 1000, mu_X = 0, sigma_X = 1, mu_epsilon = 0, sigma_1 = 0.8, sigma_2 = 0.2\n"
     ]
    }
   ],
   "source": [
    "parameters = [\n",
    "    {'N': 50, 'M': 5, 'sigma_X': 1, 'sigma_1': 0.5, 'sigma_2': 0.4},\n",
    "    {'N': 50, 'M': 20, 'sigma_X': 1, 'sigma_1': 0.5, 'sigma_2': 0.4},\n",
    "    {'N': 2500, 'M': 250, 'sigma_X': 1, 'sigma_1': 0.5, 'sigma_2': 0.4},\n",
    "    {'N': 2500, 'M': 1000, 'sigma_X': 1, 'sigma_1': 0.5, 'sigma_2': 0.4},\n",
    "    {'N': 50, 'M': 5, 'sigma_X': 1, 'sigma_1': 0.8, 'sigma_2': 0.2},\n",
    "    {'N': 50, 'M': 20, 'sigma_X': 1, 'sigma_1': 0.8, 'sigma_2': 0.2},\n",
    "    {'N': 2500, 'M': 250, 'sigma_X': 1, 'sigma_1': 0.8, 'sigma_2': 0.2},\n",
    "    {'N': 2500, 'M': 1000, 'sigma_X': 1, 'sigma_1': 0.8, 'sigma_2': 0.2},\n",
    "]\n",
    "\n",
    "mu_epsilon = 0\n",
    "mu_X = 0\n",
    "\n",
    "for parameter in parameters:\n",
    "\n",
    "    p_list = np.arange(0, 1.01, 0.1)\n",
    "    exp_improvements, CI_lows, CI_highs = (\n",
    "        get_improvement_against_p(\n",
    "            parameter['N'], parameter['M'], \n",
    "            mu_X, parameter['sigma_X'], \n",
    "            mu_epsilon, parameter['sigma_1'], parameter['sigma_2'], \n",
    "            p_list, verbose=False)\n",
    "    )\n",
    "\n",
    "    fig, ax = generate_improvement_against_p_plot(p_list, exp_improvements, \n",
    "                                                  CI_lows, CI_highs)\n",
    "    fig.set_size_inches(2, 2.5)\n",
    "    fig.savefig(\"../output/partial_noise_{}_{}_{}_{}_{}.pdf\"\n",
    "                .format(parameter['N'], parameter['M'], \n",
    "                        str(parameter['sigma_X']).replace('.', '-'),\n",
    "                        str(parameter['sigma_1']).replace('.', '-'),\n",
    "                        str(parameter['sigma_2']).replace('.', '-')),\n",
    "                transparent=True, bbox_inches='tight')"
   ]
  },
  {
   "cell_type": "code",
   "execution_count": null,
   "metadata": {
    "collapsed": true
   },
   "outputs": [],
   "source": []
  }
 ],
 "metadata": {
  "kernelspec": {
   "display_name": "Python [conda env:expt_dashboard]",
   "language": "python",
   "name": "conda-env-expt_dashboard-py"
  },
  "language_info": {
   "codemirror_mode": {
    "name": "ipython",
    "version": 3
   },
   "file_extension": ".py",
   "mimetype": "text/x-python",
   "name": "python",
   "nbconvert_exporter": "python",
   "pygments_lexer": "ipython3",
   "version": "3.6.2"
  }
 },
 "nbformat": 4,
 "nbformat_minor": 2
}
