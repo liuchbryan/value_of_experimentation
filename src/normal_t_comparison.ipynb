{
 "cells": [
  {
   "cell_type": "markdown",
   "metadata": {},
   "source": [
    "# Valuation Under Independent t-Distributed Assumptions\n",
    "\n",
    "This notebook contains the empricial extensions described in Section 7 of the paper.\n",
    "\n",
    "> We extend the model to incorporate the heavy tail in the distribution of uplifts shown in related work by modelling the true value of the propositions, as well as the estimation noise, with Generalized Student’s t-distributions."
   ]
  },
  {
   "cell_type": "code",
   "execution_count": null,
   "metadata": {
    "collapsed": true
   },
   "outputs": [],
   "source": [
    "import normal_normal_model as nnm\n",
    "import t_t_model as ttm\n",
    "import numpy as np\n",
    "from matplotlib import pyplot as plt\n",
    "import pandas as pd"
   ]
  },
  {
   "cell_type": "code",
   "execution_count": null,
   "metadata": {
    "collapsed": true
   },
   "outputs": [],
   "source": [
    "def print_run_setting(count, N, M, mu_X, sigma_X, mu_eps, sigma_1, sigma_2):\n",
    "    print(\"Cycle {}: N = {}, M = {}, mu_X = {}, sigma_X = {}, \"\n",
    "          \"mu_epsilon = {}, sigma_1 = {}, sigma_2 = {}\"\n",
    "          .format(count, N, M, np.round(mu_X, 4), \n",
    "                  np.round(sigma_X, 4), np.round(mu_eps, 4),\n",
    "                  np.round(sigma_1, 4), np.round(sigma_2, 4)))\n",
    "\n",
    "def calculate_norm_and_t_improvements(cycles=500):\n",
    "    \n",
    "    def process_improvement_samples(\n",
    "        improvement_samples, mean_improvements, CI_lows, CI_highs):\n",
    "        mean_improvement = np.mean(improvement_samples)\n",
    "        CI_low = np.percentile(improvement_samples, 5)\n",
    "        CI_high = np.percentile(improvement_samples, 95)\n",
    "        \n",
    "        mean_improvements.append(mean_improvement)\n",
    "        CI_highs.append(CI_high)\n",
    "        CI_lows.append(CI_low)\n",
    "        \n",
    "        return(mean_improvement, CI_low, CI_high)\n",
    "    \n",
    "    # Constants\n",
    "    NUM_SAMPLES = 1000\n",
    "    NUM_BOOTSTRAPS = 500\n",
    "    run_counter = 0\n",
    "    T_NU = 3\n",
    "    \n",
    "    norm_mean_improvements = []\n",
    "    norm_CI_highs = []\n",
    "    norm_CI_lows = []\n",
    "    \n",
    "    t_mean_improvements = []\n",
    "    t_CI_highs = []\n",
    "    t_CI_lows = []\n",
    "    \n",
    "    t_adjusted_mean_improvements = []\n",
    "    t_adjusted_CI_highs = []\n",
    "    t_adjusted_CI_lows = []\n",
    "\n",
    "    for cycle in range(1, cycles+1, 1):\n",
    "        N = int(10 ** np.random.uniform(1, 3.5))\n",
    "        M = int(N * np.random.uniform(0.02, 0.6)) + 2\n",
    "        sigma_X = np.sqrt(np.random.chisquare(3))\n",
    "        sigma_1 = np.sqrt(np.random.chisquare(3))\n",
    "        sigma_2 = sigma_1 * np.random.uniform(0.02, 0.9999)\n",
    "        mu_X = np.random.normal(0, 3)\n",
    "        mu_epsilon = np.random.normal(0, 3)\n",
    "\n",
    "        # Reconciling the use of sigmas by numpy\n",
    "        # and sigma_sqs in the theoretical calculations\n",
    "        sigma_sq_1 = sigma_1 ** 2\n",
    "        sigma_sq_2 = sigma_2 ** 2\n",
    "        sigma_sq_X = sigma_X ** 2\n",
    "\n",
    "        print_run_setting(cycle, N, M, mu_X, sigma_X, \n",
    "                          mu_epsilon, sigma_1, sigma_2)\n",
    "\n",
    "        # Normal distribution\n",
    "        _, _, norm_improvements = (\n",
    "            nnm.get_prioritisation_value_samples(\n",
    "                NUM_SAMPLES, N, M, mu_X, mu_epsilon, \n",
    "                sigma_sq_X, sigma_sq_1, sigma_sq_2, verbose=False)\n",
    "        )\n",
    "        \n",
    "        _, _, norm_mean_improvement = (\n",
    "            process_improvement_samples(\n",
    "                norm_improvements, norm_mean_improvements, \n",
    "                norm_CI_lows, norm_CI_highs)\n",
    "        )\n",
    "\n",
    "        # Student's t-distribution\n",
    "        _, _, t_improvements = (\n",
    "            ttm.get_prioritisation_value_samples(\n",
    "                NUM_SAMPLES, N, M, mu_X, mu_epsilon, \n",
    "                sigma_sq_X, sigma_sq_1, sigma_sq_2, T_NU, verbose=False)\n",
    "        )\n",
    "        \n",
    "        _, _, t_mean_improvement = (\n",
    "            process_improvement_samples(\n",
    "                t_improvements, t_mean_improvements, \n",
    "                t_CI_lows, t_CI_highs)\n",
    "        )\n",
    "        \n",
    "        # Student's t-distribution with adjusted scale\n",
    "        # so that it has the same variance as the normal distributions\n",
    "        _, _, t_adjusted_improvements = (\n",
    "            ttm.get_prioritisation_value_samples(\n",
    "                NUM_SAMPLES, N, M, mu_X, mu_epsilon, \n",
    "                sigma_sq_X * np.sqrt((T_NU - 2)/T_NU),\n",
    "                sigma_sq_1 * np.sqrt((T_NU - 2)/T_NU),\n",
    "                sigma_sq_2 * np.sqrt((T_NU - 2)/T_NU),\n",
    "                T_NU, verbose=False)\n",
    "        )\n",
    "        \n",
    "        _, _, t_adjusted_mean_improvement = (\n",
    "            process_improvement_samples(\n",
    "                t_adjusted_improvements, t_adjusted_mean_improvements, \n",
    "                t_adjusted_CI_lows, t_adjusted_CI_highs)\n",
    "        )\n",
    "        \n",
    "        print(\"Cycle {}: Normal E(D) = {}; t E(D) = {}; Adjusted t E(D) = {}\"\n",
    "              .format(cycle,\n",
    "                      norm_mean_improvement,\n",
    "                      t_mean_improvement,\n",
    "                      t_adjusted_mean_improvement))\n",
    "            \n",
    "    return(\n",
    "        norm_mean_improvements, norm_CI_highs, norm_CI_lows,\n",
    "        t_mean_improvements, t_CI_highs, t_CI_lows,\n",
    "        t_adjusted_mean_improvements, t_adjusted_CI_highs, t_adjusted_CI_lows\n",
    "    )"
   ]
  },
  {
   "cell_type": "code",
   "execution_count": null,
   "metadata": {},
   "outputs": [],
   "source": [
    "norm_improvements = []\n",
    "norm_CI_highs = []\n",
    "norm_CI_lows = []\n",
    "\n",
    "t_improvements = []\n",
    "t_CI_highs = []\n",
    "t_CI_lows = []\n",
    "\n",
    "t_adjusted_improvements = []\n",
    "t_adjusted_CI_highs = []\n",
    "t_adjusted_CI_lows = []\n",
    "\n",
    "# We obtain the improvements under independent Gaussian and t-distributed\n",
    "# assumptions respectively in batches of ten.\n",
    "# This enables us to retain the numbers calculated even if\n",
    "# we have to interrupt the process.\n",
    "\n",
    "while True:\n",
    "    (norm_EDs, norm_highs, norm_lows, \n",
    "     t_EDs, t_highs, t_lows,\n",
    "     t_adjusted_EDs, t_adjusted_highs, t_adjusted_lows) =  \\\n",
    "        calculate_norm_and_t_improvements(10)\n",
    "    \n",
    "    norm_improvements = norm_improvements + norm_EDs\n",
    "    norm_CI_highs = norm_CI_highs + norm_highs\n",
    "    norm_CI_lows = norm_CI_lows + norm_lows\n",
    "\n",
    "    t_improvements = t_improvements + t_EDs\n",
    "    t_CI_highs = t_CI_highs + t_highs\n",
    "    t_CI_lows = t_CI_lows + t_lows\n",
    "\n",
    "    t_adjusted_improvements = t_adjusted_improvements + t_adjusted_EDs\n",
    "    t_adjusted_CI_highs = t_adjusted_CI_highs + t_adjusted_highs\n",
    "    t_adjusted_CI_lows = t_adjusted_CI_lows + t_adjusted_lows"
   ]
  },
  {
   "cell_type": "code",
   "execution_count": null,
   "metadata": {},
   "outputs": [],
   "source": [
    "len(norm_improvements)"
   ]
  },
  {
   "cell_type": "code",
   "execution_count": null,
   "metadata": {},
   "outputs": [],
   "source": [
    "plt.hist(np.array(norm_improvements) / np.array(t_improvements), bins=500)\n",
    "plt.xlim(0, 2)\n",
    "plt.show()"
   ]
  },
  {
   "cell_type": "code",
   "execution_count": null,
   "metadata": {},
   "outputs": [],
   "source": [
    "plt.hist(np.array(norm_improvements) / np.array(t_adjusted_improvements), bins=100)\n",
    "plt.xlim(0, 2)\n",
    "plt.show()"
   ]
  },
  {
   "cell_type": "code",
   "execution_count": null,
   "metadata": {},
   "outputs": [],
   "source": [
    "pd.DataFrame(np.array(t_improvements) / np.array(norm_improvements)).describe()"
   ]
  },
  {
   "cell_type": "code",
   "execution_count": null,
   "metadata": {},
   "outputs": [],
   "source": [
    "pd.DataFrame(np.array(t_adjusted_improvements)/ np.array(norm_improvements)).describe()"
   ]
  },
  {
   "cell_type": "code",
   "execution_count": null,
   "metadata": {},
   "outputs": [],
   "source": [
    "pd.DataFrame(np.array(t_adjusted_CI_highs) / np.array(norm_CI_highs)).describe()"
   ]
  },
  {
   "cell_type": "code",
   "execution_count": null,
   "metadata": {
    "collapsed": true
   },
   "outputs": [],
   "source": []
  }
 ],
 "metadata": {
  "kernelspec": {
   "display_name": "Python [conda env:expt_dashboard]",
   "language": "python",
   "name": "conda-env-expt_dashboard-py"
  },
  "language_info": {
   "codemirror_mode": {
    "name": "ipython",
    "version": 3
   },
   "file_extension": ".py",
   "mimetype": "text/x-python",
   "name": "python",
   "nbconvert_exporter": "python",
   "pygments_lexer": "ipython3",
   "version": "3.6.2"
  }
 },
 "nbformat": 4,
 "nbformat_minor": 2
}
